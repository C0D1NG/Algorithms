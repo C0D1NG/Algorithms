{
 "cells": [
  {
   "cell_type": "code",
   "execution_count": 7,
   "metadata": {},
   "outputs": [
    {
     "name": "stdout",
     "output_type": "stream",
     "text": [
      "Element found at index no: 6\n"
     ]
    }
   ],
   "source": [
    "arr = [5,3,7,9,2,7,1,8,2,4,8,5]\n",
    "x = 1\n",
    "\n",
    "def linear(arr, x):\n",
    "   for i in range(len(arr)):\n",
    "      if arr[i] == x:\n",
    "         return i\n",
    "   return -1\n",
    "\n",
    "print(\"Element found at index no: \" + str(linear(arr,x)))"
   ]
  },
  {
   "cell_type": "code",
   "execution_count": null,
   "metadata": {},
   "outputs": [],
   "source": []
  }
 ],
 "metadata": {
  "kernelspec": {
   "display_name": "Python 3",
   "language": "python",
   "name": "python3"
  },
  "language_info": {
   "codemirror_mode": {
    "name": "ipython",
    "version": 3
   },
   "file_extension": ".py",
   "mimetype": "text/x-python",
   "name": "python",
   "nbconvert_exporter": "python",
   "pygments_lexer": "ipython3",
   "version": "3.7.4"
  }
 },
 "nbformat": 4,
 "nbformat_minor": 2
}
