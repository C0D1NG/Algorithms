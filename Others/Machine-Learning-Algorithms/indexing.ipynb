import numpy as nb
# Indexing a 2D array (matrices)
# 

ind_arr_2d = np.array(([21, 22, 23], [11, 22, 33], [43, 77, 89]))
print(ind_arr_2d)

# Selecting element at row index 1 & column index 2
#
print(ind_arr_2d[1][2])

# Selecting a Row at index 1
#
row = ind_arr_2d[1]
print(row)

# Selecting a column at index 1 
# 
column = ind_arr_2d[:, 1]
print(column)
